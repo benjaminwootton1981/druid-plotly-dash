{
 "cells": [
  {
   "cell_type": "markdown",
   "metadata": {},
   "source": [
    "# Anomaly Detection with Apache Druid and Python"
   ]
  },
  {
   "cell_type": "markdown",
   "metadata": {},
   "source": [
    "**Outline:** The user would like to analyze the orders placed on his ecommerce website over the last 5 hours. Using Python, the user queries the data in Druid and exports the time series to a pandas data frame. The user then proceeds to calculate some basic descriptive statistics using pandas, such as the number of orders, the average order value, the minimum and maximum order values, etc. After that, the user uses Plotly to generate an interactive plot of the time series. The plot indicates a seasonal peak every 2 hours, as well as a number of potential anomalies. The user decides to fit a Prophet model to the time series in order to more systematically identify the anomalies that require further investigation.  "
   ]
  },
  {
   "cell_type": "markdown",
   "metadata": {},
   "source": [
    "## 1. Load the data from Druid"
   ]
  },
  {
   "cell_type": "code",
   "execution_count": null,
   "metadata": {},
   "outputs": [],
   "source": [
    "from pydruid.client import *\n",
    "import pandas as pd\n",
    "import numpy as np\n",
    "import plotly.graph_objects as go\n",
    "from fbprophet import Prophet\n",
    "import requests"
   ]
  },
  {
   "cell_type": "code",
   "execution_count": null,
   "metadata": {},
   "outputs": [],
   "source": [
    "url = 'http://54.78.73.75:8888/druid/v2/?pretty'\n",
    "\n",
    "\n",
    "# define the Druid query\n",
    "query = {'queryType': 'scan', \n",
    "         'dataSource': '1_1_OrdersNew', \n",
    "         'intervals': ['2020-06-01T08:00:00.000Z/2020-06-01T10:00:00.000Z'],\n",
    "         'granularity': 'all'}\n",
    "\n",
    "# run the Druid query\n",
    "results = json.dumps(requests.post(url, headers={'Content-Type': 'application/json'}, json=query).json()[1]['events'])\n",
    "\n",
    "# organize the results of the Druid \n",
    "# query in a pandas data frame\n",
    "df = pd.read_json(results, orient='records')\n",
    "df = df[['__time', 'Value']]\n",
    "df.rename(columns={'__time': 'time', 'Value': 'value'}, inplace=True)\n",
    "df.sort_values(by='time', inplace=True)"
   ]
  },
  {
   "cell_type": "markdown",
   "metadata": {},
   "source": [
    "Print the first few rows of the data frame."
   ]
  },
  {
   "cell_type": "code",
   "execution_count": null,
   "metadata": {},
   "outputs": [],
   "source": [
    "df.head()"
   ]
  },
  {
   "cell_type": "markdown",
   "metadata": {},
   "source": [
    "Print the last few rows of the data frame."
   ]
  },
  {
   "cell_type": "code",
   "execution_count": null,
   "metadata": {},
   "outputs": [],
   "source": [
    "df.tail()"
   ]
  },
  {
   "cell_type": "markdown",
   "metadata": {},
   "source": [
    "## 2. Perform some basic data analysis using pandas"
   ]
  },
  {
   "cell_type": "markdown",
   "metadata": {},
   "source": [
    "Calculate the descriptive statistics."
   ]
  },
  {
   "cell_type": "code",
   "execution_count": null,
   "metadata": {},
   "outputs": [],
   "source": [
    "df.describe()"
   ]
  },
  {
   "cell_type": "markdown",
   "metadata": {},
   "source": [
    "Calculate the number of orders above and below some thresholds."
   ]
  },
  {
   "cell_type": "code",
   "execution_count": null,
   "metadata": {},
   "outputs": [],
   "source": [
    "(df['value'] > 150).sum()"
   ]
  },
  {
   "cell_type": "code",
   "execution_count": null,
   "metadata": {},
   "outputs": [],
   "source": [
    "(df['value'] < 50).sum()"
   ]
  },
  {
   "cell_type": "markdown",
   "metadata": {},
   "source": [
    "## 3. Plot the data with Plotly"
   ]
  },
  {
   "cell_type": "markdown",
   "metadata": {},
   "source": [
    "The following code generates a basic time series plot with Plotly Express."
   ]
  },
  {
   "cell_type": "code",
   "execution_count": null,
   "metadata": {},
   "outputs": [],
   "source": [
    "fig = px.scatter(df, x='time', y='value')\n",
    "fig.update_traces(marker=dict(color='#b5babe'))\n",
    "fig.update_layout(plot_bgcolor='white', paper_bgcolor='white')\n",
    "fig.show()"
   ]
  },
  {
   "cell_type": "markdown",
   "metadata": {},
   "source": [
    "The following code generates an interactive time series plot with Plotly Graph Objects. The buttons in the top left corner allow the user to display only the values of the time series over a recent time window (such as the last 10 minutes, the last 30 minutes, or the last hour). The slider on the bottom allows the user to display only the values of the time series over a custom selected time window. The user can additionally hover on the data points with the mouse to display a tooltip with the corresponding time and value. Additional interactive features (such as zooming in and out) are provided by the Plotly modebar, which appears on hover in the top right corner. Finally, the plot can be exported in HTML format to be included in a website, interactive report or dashboard."
   ]
  },
  {
   "cell_type": "code",
   "execution_count": null,
   "metadata": {},
   "outputs": [],
   "source": [
    "# create the layout\n",
    "layout = {'plot_bgcolor': 'white', \n",
    "          'paper_bgcolor': 'white',\n",
    "          'margin': {'t':10, 'b':10, 'l':10, 'r':10, 'pad':0},\n",
    "          'showlegend': False,\n",
    "          'yaxis': {'showgrid': True, \n",
    "                    'zeroline': False, \n",
    "                    'mirror': True, \n",
    "                    'color': '#737373', \n",
    "                    'linecolor': '#d9d9d9',\n",
    "                    'gridcolor': '#d9d9d9',\n",
    "                    'tickformat': '$,.0f'},\n",
    "          'xaxis': {'range':[df['time'].min(), df['time'].max()],\n",
    "                    'autorange': False,\n",
    "                    'showgrid': True, \n",
    "                    'zeroline': False, \n",
    "                    'mirror': True, \n",
    "                    'color': '#737373', \n",
    "                    'linecolor': '#d9d9d9', \n",
    "                    'gridcolor': '#d9d9d9',\n",
    "                    'type': 'date', \n",
    "                    'tickformat': '%d %b %y %H:%M', \n",
    "                    'tickangle': 0,\n",
    "                    'nticks': 5,\n",
    "                    'rangeslider': {'visible': True}, \n",
    "                    'rangeselector': {'buttons': [\n",
    "                        {'count': 10, 'label': '10m', 'step': 'minute', 'stepmode': 'backward'}, \n",
    "                        {'count': 30, 'label': '30m', 'step': 'minute', 'stepmode': 'backward'}, \n",
    "                        {'count': 60, 'label': '60m', 'step': 'minute', 'stepmode': 'backward'}, \n",
    "                        {'step': 'all'}]}}}\n",
    "\n",
    "# create the traces\n",
    "data = go.Scatter(x=df['time'],\n",
    "                  y=df['value'],\n",
    "                  mode='markers',\n",
    "                  marker=dict(color='#b5babe', size=5),\n",
    "                  hovertemplate='<b>Time:</b> %{x|%d %b %Y %H:%M:%S}<br>'\n",
    "                  '<b>Value:</b> %{y: $,.2f}<extra></extra>')\n",
    "\n",
    "# create the figure\n",
    "fig = go.Figure(data=data, layout=layout)\n",
    "\n",
    "# display the figure\n",
    "fig.show()\n",
    "\n",
    "# export the figure\n",
    "fig.write_html('orders_plot.html')"
   ]
  },
  {
   "cell_type": "markdown",
   "metadata": {},
   "source": [
    "## 4. Detect the anomalies with the Prophet model"
   ]
  },
  {
   "cell_type": "markdown",
   "metadata": {},
   "source": [
    "Fit the Prophet model."
   ]
  },
  {
   "cell_type": "code",
   "execution_count": null,
   "metadata": {},
   "outputs": [],
   "source": [
    "X = pd.DataFrame({'ds': df['time'], 'y': df['value']})\n",
    "m = Prophet(interval_width=0.9999).fit(X)"
   ]
  },
  {
   "cell_type": "markdown",
   "metadata": {},
   "source": [
    "Extract the model predictions."
   ]
  },
  {
   "cell_type": "code",
   "execution_count": null,
   "metadata": {},
   "outputs": [],
   "source": [
    "predictions = m.predict(X)\n",
    "predictions = predictions[['ds', 'yhat_lower', 'yhat_upper', 'yhat']]\n",
    "predictions['ytrue'] = df['value'].values\n",
    "predictions.head()"
   ]
  },
  {
   "cell_type": "markdown",
   "metadata": {},
   "source": [
    "Identify the anomalies."
   ]
  },
  {
   "cell_type": "code",
   "execution_count": null,
   "metadata": {},
   "outputs": [],
   "source": [
    "predictions['anomaly'] = np.where((predictions['ytrue'] < predictions['yhat_lower']) | (predictions['ytrue'] > predictions['yhat_upper']), True, False)\n",
    "predictions.head()"
   ]
  },
  {
   "cell_type": "markdown",
   "metadata": {},
   "source": [
    "Plot the results with Plotly."
   ]
  },
  {
   "cell_type": "code",
   "execution_count": null,
   "metadata": {},
   "outputs": [],
   "source": [
    "# create the layout\n",
    "layout = {'plot_bgcolor': 'white', \n",
    "          'paper_bgcolor': 'white',\n",
    "          'margin': {'t':10, 'b':10, 'l':10, 'r':10, 'pad':0},\n",
    "          'yaxis': {'showgrid': True, \n",
    "                    'zeroline': False, \n",
    "                    'mirror': True, \n",
    "                    'color': '#737373', \n",
    "                    'linecolor': '#d9d9d9',\n",
    "                    'gridcolor': '#d9d9d9',\n",
    "                    'tickformat': '$,.0f'},\n",
    "          'xaxis': {'range':[predictions['ds'].min(), predictions['ds'].max()],\n",
    "                    'autorange': False,\n",
    "                    'showgrid': True, \n",
    "                    'zeroline': False, \n",
    "                    'mirror': True, \n",
    "                    'color': '#737373', \n",
    "                    'linecolor': '#d9d9d9', \n",
    "                    'gridcolor': '#d9d9d9',\n",
    "                    'type': 'date', \n",
    "                    'tickformat': '%d %b %y %H:%M', \n",
    "                    'tickangle': 0,\n",
    "                    'nticks': 5}}\n",
    "\n",
    "# create the traces\n",
    "data = []\n",
    "\n",
    "data.append(go.Scatter(x=predictions.query('anomaly == False')['ds'],\n",
    "                       y=predictions.query('anomaly == False')['ytrue'],\n",
    "                       mode='markers',\n",
    "                       marker=dict(color='#b5babe', size=5),\n",
    "                       name='Orders',\n",
    "                       hovertemplate='<b>Orders</b><br>'\n",
    "                       '<b>Time:</b> %{x|%d %b %Y %H:%M:%S}<br>'\n",
    "                       '<b>Value:</b> %{y: $,.2f}<extra></extra>'))\n",
    "\n",
    "data.append(go.Scatter(x=predictions.query('anomaly == True')['ds'],\n",
    "                       y=predictions.query('anomaly == True')['ytrue'],\n",
    "                       mode='markers',\n",
    "                       marker=dict(color='#e83e8c', size=5), \n",
    "                       name='Anomalies',\n",
    "                       hovertemplate='<b>Anomalies</b><br>'\n",
    "                       '<b>Time:</b> %{x|%d %b %Y %H:%M:%S}<br>'\n",
    "                       '<b>Value:</b> %{y: $,.2f}<extra></extra>'))\n",
    "\n",
    "data.append(go.Scatter(x=predictions['ds'],\n",
    "                       y=predictions['yhat'],\n",
    "                       mode='lines',\n",
    "                       line=dict(color='#8A348E', width=4, dash='dot'),\n",
    "                       name='Model Predictions',\n",
    "                       hovertemplate='<b>Model Predictions</b></br>'\n",
    "                       '<b>Time:</b> %{x|%d %b %Y %H:%M:%S}<br>'\n",
    "                       '<b>Value:</b> %{y: $,.2f}<extra></extra>'))\n",
    "\n",
    "# create the figure\n",
    "fig = go.Figure(data=data, layout=layout)\n",
    "\n",
    "# display the figure\n",
    "fig.show()\n",
    "\n",
    "# export the figure\n",
    "fig.write_html('model_plot.html')"
   ]
  },
  {
   "cell_type": "code",
   "execution_count": null,
   "metadata": {},
   "outputs": [],
   "source": []
  }
 ],
 "metadata": {
  "kernelspec": {
   "display_name": "Python 3",
   "language": "python",
   "name": "python3"
  },
  "language_info": {
   "codemirror_mode": {
    "name": "ipython",
    "version": 3
   },
   "file_extension": ".py",
   "mimetype": "text/x-python",
   "name": "python",
   "nbconvert_exporter": "python",
   "pygments_lexer": "ipython3",
   "version": "3.7.6"
  }
 },
 "nbformat": 4,
 "nbformat_minor": 2
}
