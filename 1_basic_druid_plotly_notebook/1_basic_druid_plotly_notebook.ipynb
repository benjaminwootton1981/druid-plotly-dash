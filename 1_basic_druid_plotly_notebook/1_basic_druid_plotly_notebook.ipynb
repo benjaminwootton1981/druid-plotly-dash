{
 "cells": [
  {
   "cell_type": "markdown",
   "metadata": {},
   "source": [
    "# Basic Integration Of Druid and Plotly"
   ]
  },
  {
   "cell_type": "markdown",
   "metadata": {},
   "source": [
    "**Outline:** The user would like to analyze the orders placed on his ecommerce website over the last 5 hours. Using Python, the user queries the data in Druid and exports the time series to a pandas data frame. The user then proceeds to calculate some basic descriptive statistics using pandas, such as the number of orders, the average order value, the minimum and maximum order values, etc. After that, the user uses Plotly to generate an interactive plot of the time series. The plot indicates a seasonal peak every 2 hours, as well as a number of potential anomalies. "
   ]
  },
  {
   "cell_type": "markdown",
   "metadata": {},
   "source": [
    "## 1. Load the data from Druid"
   ]
  },
  {
   "cell_type": "code",
   "execution_count": 10,
   "metadata": {},
   "outputs": [],
   "source": [
    "from pydruid.client import *\n",
    "import pandas as pd\n",
    "import numpy as np\n",
    "import plotly.graph_objects as go\n",
    "from fbprophet import Prophet\n",
    "import requests"
   ]
  },
  {
   "cell_type": "code",
   "execution_count": 11,
   "metadata": {},
   "outputs": [],
   "source": [
    "url = 'http://54.78.73.75:8888/druid/v2/?pretty'\n",
    "\n",
    "\n",
    "# define the Druid query\n",
    "query = {'queryType': 'scan', \n",
    "         'dataSource': '1_1_OrdersNew', \n",
    "         'intervals': ['2020-06-01T08:00:00.000Z/2020-06-07T10:00:00.000Z'],\n",
    "         'granularity': 'all'}\n",
    "\n",
    "# run the Druid query\n",
    "results = json.dumps(requests.post(url, headers={'Content-Type': 'application/json'}, json=query).json()[1]['events'])\n",
    "\n",
    "# organize the results of the Druid \n",
    "# query in a pandas data frame\n",
    "df = pd.read_json(results, orient='records')\n",
    "df = df[['__time', 'Value']]\n",
    "df.rename(columns={'__time': 'time', 'Value': 'value'}, inplace=True)\n",
    "df.sort_values(by='time', inplace=True)"
   ]
  },
  {
   "cell_type": "markdown",
   "metadata": {},
   "source": [
    "Print the first few rows of the data frame."
   ]
  },
  {
   "cell_type": "code",
   "execution_count": 12,
   "metadata": {},
   "outputs": [
    {
     "data": {
      "text/html": [
       "<div>\n",
       "<style scoped>\n",
       "    .dataframe tbody tr th:only-of-type {\n",
       "        vertical-align: middle;\n",
       "    }\n",
       "\n",
       "    .dataframe tbody tr th {\n",
       "        vertical-align: top;\n",
       "    }\n",
       "\n",
       "    .dataframe thead th {\n",
       "        text-align: right;\n",
       "    }\n",
       "</style>\n",
       "<table border=\"1\" class=\"dataframe\">\n",
       "  <thead>\n",
       "    <tr style=\"text-align: right;\">\n",
       "      <th></th>\n",
       "      <th>time</th>\n",
       "      <th>value</th>\n",
       "    </tr>\n",
       "  </thead>\n",
       "  <tbody>\n",
       "    <tr>\n",
       "      <td>0</td>\n",
       "      <td>2020-06-01 13:41:20</td>\n",
       "      <td>84.261481</td>\n",
       "    </tr>\n",
       "    <tr>\n",
       "      <td>1</td>\n",
       "      <td>2020-06-01 13:41:21</td>\n",
       "      <td>102.680356</td>\n",
       "    </tr>\n",
       "    <tr>\n",
       "      <td>2</td>\n",
       "      <td>2020-06-01 13:41:22</td>\n",
       "      <td>99.665364</td>\n",
       "    </tr>\n",
       "    <tr>\n",
       "      <td>3</td>\n",
       "      <td>2020-06-01 13:41:23</td>\n",
       "      <td>68.268485</td>\n",
       "    </tr>\n",
       "    <tr>\n",
       "      <td>4</td>\n",
       "      <td>2020-06-01 13:41:24</td>\n",
       "      <td>92.389898</td>\n",
       "    </tr>\n",
       "  </tbody>\n",
       "</table>\n",
       "</div>"
      ],
      "text/plain": [
       "                 time       value\n",
       "0 2020-06-01 13:41:20   84.261481\n",
       "1 2020-06-01 13:41:21  102.680356\n",
       "2 2020-06-01 13:41:22   99.665364\n",
       "3 2020-06-01 13:41:23   68.268485\n",
       "4 2020-06-01 13:41:24   92.389898"
      ]
     },
     "execution_count": 12,
     "metadata": {},
     "output_type": "execute_result"
    }
   ],
   "source": [
    "df.head()"
   ]
  },
  {
   "cell_type": "markdown",
   "metadata": {},
   "source": [
    "Print the last few rows of the data frame."
   ]
  },
  {
   "cell_type": "code",
   "execution_count": 13,
   "metadata": {},
   "outputs": [
    {
     "data": {
      "text/html": [
       "<div>\n",
       "<style scoped>\n",
       "    .dataframe tbody tr th:only-of-type {\n",
       "        vertical-align: middle;\n",
       "    }\n",
       "\n",
       "    .dataframe tbody tr th {\n",
       "        vertical-align: top;\n",
       "    }\n",
       "\n",
       "    .dataframe thead th {\n",
       "        text-align: right;\n",
       "    }\n",
       "</style>\n",
       "<table border=\"1\" class=\"dataframe\">\n",
       "  <thead>\n",
       "    <tr style=\"text-align: right;\">\n",
       "      <th></th>\n",
       "      <th>time</th>\n",
       "      <th>value</th>\n",
       "    </tr>\n",
       "  </thead>\n",
       "  <tbody>\n",
       "    <tr>\n",
       "      <td>20475</td>\n",
       "      <td>2020-06-01 19:22:35</td>\n",
       "      <td>110.930838</td>\n",
       "    </tr>\n",
       "    <tr>\n",
       "      <td>20476</td>\n",
       "      <td>2020-06-01 19:22:36</td>\n",
       "      <td>96.566745</td>\n",
       "    </tr>\n",
       "    <tr>\n",
       "      <td>20477</td>\n",
       "      <td>2020-06-01 19:22:37</td>\n",
       "      <td>93.197839</td>\n",
       "    </tr>\n",
       "    <tr>\n",
       "      <td>20478</td>\n",
       "      <td>2020-06-01 19:22:38</td>\n",
       "      <td>95.005933</td>\n",
       "    </tr>\n",
       "    <tr>\n",
       "      <td>20479</td>\n",
       "      <td>2020-06-01 19:22:39</td>\n",
       "      <td>102.138947</td>\n",
       "    </tr>\n",
       "  </tbody>\n",
       "</table>\n",
       "</div>"
      ],
      "text/plain": [
       "                     time       value\n",
       "20475 2020-06-01 19:22:35  110.930838\n",
       "20476 2020-06-01 19:22:36   96.566745\n",
       "20477 2020-06-01 19:22:37   93.197839\n",
       "20478 2020-06-01 19:22:38   95.005933\n",
       "20479 2020-06-01 19:22:39  102.138947"
      ]
     },
     "execution_count": 13,
     "metadata": {},
     "output_type": "execute_result"
    }
   ],
   "source": [
    "df.tail()"
   ]
  },
  {
   "cell_type": "markdown",
   "metadata": {},
   "source": [
    "## 2. Perform some basic data analysis using pandas"
   ]
  },
  {
   "cell_type": "markdown",
   "metadata": {},
   "source": [
    "Calculate the descriptive statistics."
   ]
  },
  {
   "cell_type": "code",
   "execution_count": 14,
   "metadata": {},
   "outputs": [
    {
     "data": {
      "text/html": [
       "<div>\n",
       "<style scoped>\n",
       "    .dataframe tbody tr th:only-of-type {\n",
       "        vertical-align: middle;\n",
       "    }\n",
       "\n",
       "    .dataframe tbody tr th {\n",
       "        vertical-align: top;\n",
       "    }\n",
       "\n",
       "    .dataframe thead th {\n",
       "        text-align: right;\n",
       "    }\n",
       "</style>\n",
       "<table border=\"1\" class=\"dataframe\">\n",
       "  <thead>\n",
       "    <tr style=\"text-align: right;\">\n",
       "      <th></th>\n",
       "      <th>value</th>\n",
       "    </tr>\n",
       "  </thead>\n",
       "  <tbody>\n",
       "    <tr>\n",
       "      <td>count</td>\n",
       "      <td>20480.000000</td>\n",
       "    </tr>\n",
       "    <tr>\n",
       "      <td>mean</td>\n",
       "      <td>100.207710</td>\n",
       "    </tr>\n",
       "    <tr>\n",
       "      <td>std</td>\n",
       "      <td>20.683617</td>\n",
       "    </tr>\n",
       "    <tr>\n",
       "      <td>min</td>\n",
       "      <td>34.727965</td>\n",
       "    </tr>\n",
       "    <tr>\n",
       "      <td>25%</td>\n",
       "      <td>83.203207</td>\n",
       "    </tr>\n",
       "    <tr>\n",
       "      <td>50%</td>\n",
       "      <td>100.324754</td>\n",
       "    </tr>\n",
       "    <tr>\n",
       "      <td>75%</td>\n",
       "      <td>117.277084</td>\n",
       "    </tr>\n",
       "    <tr>\n",
       "      <td>max</td>\n",
       "      <td>187.732693</td>\n",
       "    </tr>\n",
       "  </tbody>\n",
       "</table>\n",
       "</div>"
      ],
      "text/plain": [
       "              value\n",
       "count  20480.000000\n",
       "mean     100.207710\n",
       "std       20.683617\n",
       "min       34.727965\n",
       "25%       83.203207\n",
       "50%      100.324754\n",
       "75%      117.277084\n",
       "max      187.732693"
      ]
     },
     "execution_count": 14,
     "metadata": {},
     "output_type": "execute_result"
    }
   ],
   "source": [
    "df.describe()"
   ]
  },
  {
   "cell_type": "markdown",
   "metadata": {},
   "source": [
    "Calculate the number of orders above and below some thresholds."
   ]
  },
  {
   "cell_type": "code",
   "execution_count": 15,
   "metadata": {},
   "outputs": [
    {
     "data": {
      "text/plain": [
       "21"
      ]
     },
     "execution_count": 15,
     "metadata": {},
     "output_type": "execute_result"
    }
   ],
   "source": [
    "(df['value'] > 150).sum()"
   ]
  },
  {
   "cell_type": "code",
   "execution_count": 16,
   "metadata": {},
   "outputs": [
    {
     "data": {
      "text/plain": [
       "15"
      ]
     },
     "execution_count": 16,
     "metadata": {},
     "output_type": "execute_result"
    }
   ],
   "source": [
    "(df['value'] < 50).sum()"
   ]
  },
  {
   "cell_type": "markdown",
   "metadata": {},
   "source": [
    "## 3. Plot the data with Plotly"
   ]
  },
  {
   "cell_type": "markdown",
   "metadata": {},
   "source": [
    "The following code generates a basic time series plot with Plotly Express."
   ]
  },
  {
   "cell_type": "code",
   "execution_count": 17,
   "metadata": {},
   "outputs": [
    {
     "ename": "NameError",
     "evalue": "name 'px' is not defined",
     "output_type": "error",
     "traceback": [
      "\u001b[0;31m---------------------------------------------------------------------------\u001b[0m",
      "\u001b[0;31mNameError\u001b[0m                                 Traceback (most recent call last)",
      "\u001b[0;32m<ipython-input-17-a168d1c06bcf>\u001b[0m in \u001b[0;36m<module>\u001b[0;34m\u001b[0m\n\u001b[0;32m----> 1\u001b[0;31m \u001b[0mfig\u001b[0m \u001b[0;34m=\u001b[0m \u001b[0mpx\u001b[0m\u001b[0;34m.\u001b[0m\u001b[0mscatter\u001b[0m\u001b[0;34m(\u001b[0m\u001b[0mdf\u001b[0m\u001b[0;34m,\u001b[0m \u001b[0mx\u001b[0m\u001b[0;34m=\u001b[0m\u001b[0;34m'time'\u001b[0m\u001b[0;34m,\u001b[0m \u001b[0my\u001b[0m\u001b[0;34m=\u001b[0m\u001b[0;34m'value'\u001b[0m\u001b[0;34m)\u001b[0m\u001b[0;34m\u001b[0m\u001b[0;34m\u001b[0m\u001b[0m\n\u001b[0m\u001b[1;32m      2\u001b[0m \u001b[0mfig\u001b[0m\u001b[0;34m.\u001b[0m\u001b[0mupdate_traces\u001b[0m\u001b[0;34m(\u001b[0m\u001b[0mmarker\u001b[0m\u001b[0;34m=\u001b[0m\u001b[0mdict\u001b[0m\u001b[0;34m(\u001b[0m\u001b[0mcolor\u001b[0m\u001b[0;34m=\u001b[0m\u001b[0;34m'#b5babe'\u001b[0m\u001b[0;34m)\u001b[0m\u001b[0;34m)\u001b[0m\u001b[0;34m\u001b[0m\u001b[0;34m\u001b[0m\u001b[0m\n\u001b[1;32m      3\u001b[0m \u001b[0mfig\u001b[0m\u001b[0;34m.\u001b[0m\u001b[0mupdate_layout\u001b[0m\u001b[0;34m(\u001b[0m\u001b[0mplot_bgcolor\u001b[0m\u001b[0;34m=\u001b[0m\u001b[0;34m'white'\u001b[0m\u001b[0;34m,\u001b[0m \u001b[0mpaper_bgcolor\u001b[0m\u001b[0;34m=\u001b[0m\u001b[0;34m'white'\u001b[0m\u001b[0;34m)\u001b[0m\u001b[0;34m\u001b[0m\u001b[0;34m\u001b[0m\u001b[0m\n\u001b[1;32m      4\u001b[0m \u001b[0mfig\u001b[0m\u001b[0;34m.\u001b[0m\u001b[0mshow\u001b[0m\u001b[0;34m(\u001b[0m\u001b[0;34m)\u001b[0m\u001b[0;34m\u001b[0m\u001b[0;34m\u001b[0m\u001b[0m\n",
      "\u001b[0;31mNameError\u001b[0m: name 'px' is not defined"
     ]
    }
   ],
   "source": [
    "fig = px.scatter(df, x='time', y='value')\n",
    "fig.update_traces(marker=dict(color='#b5babe'))\n",
    "fig.update_layout(plot_bgcolor='white', paper_bgcolor='white')\n",
    "fig.show()"
   ]
  },
  {
   "cell_type": "markdown",
   "metadata": {},
   "source": [
    "The following code generates an interactive time series plot with Plotly Graph Objects. The buttons in the top left corner allow the user to display only the values of the time series over a recent time window (such as the last 10 minutes, the last 30 minutes, or the last hour). The slider on the bottom allows the user to display only the values of the time series over a custom selected time window. The user can additionally hover on the data points with the mouse to display a tooltip with the corresponding time and value. Additional interactive features (such as zooming in and out) are provided by the Plotly modebar, which appears on hover in the top right corner. Finally, the plot can be exported in HTML format to be included in a website, interactive report or dashboard."
   ]
  },
  {
   "cell_type": "code",
   "execution_count": null,
   "metadata": {},
   "outputs": [],
   "source": [
    "# create the layout\n",
    "layout = {'plot_bgcolor': 'white', \n",
    "          'paper_bgcolor': 'white',\n",
    "          'margin': {'t':10, 'b':10, 'l':10, 'r':10, 'pad':0},\n",
    "          'showlegend': False,\n",
    "          'yaxis': {'showgrid': True, \n",
    "                    'zeroline': False, \n",
    "                    'mirror': True, \n",
    "                    'color': '#737373', \n",
    "                    'linecolor': '#d9d9d9',\n",
    "                    'gridcolor': '#d9d9d9',\n",
    "                    'tickformat': '$,.0f'},\n",
    "          'xaxis': {'range':[df['time'].min(), df['time'].max()],\n",
    "                    'autorange': False,\n",
    "                    'showgrid': True, \n",
    "                    'zeroline': False, \n",
    "                    'mirror': True, \n",
    "                    'color': '#737373', \n",
    "                    'linecolor': '#d9d9d9', \n",
    "                    'gridcolor': '#d9d9d9',\n",
    "                    'type': 'date', \n",
    "                    'tickformat': '%d %b %y %H:%M', \n",
    "                    'tickangle': 0,\n",
    "                    'nticks': 5,\n",
    "                    'rangeslider': {'visible': True}, \n",
    "                    'rangeselector': {'buttons': [\n",
    "                        {'count': 10, 'label': '10m', 'step': 'minute', 'stepmode': 'backward'}, \n",
    "                        {'count': 30, 'label': '30m', 'step': 'minute', 'stepmode': 'backward'}, \n",
    "                        {'count': 60, 'label': '60m', 'step': 'minute', 'stepmode': 'backward'}, \n",
    "                        {'step': 'all'}]}}}\n",
    "\n",
    "# create the traces\n",
    "data = go.Scatter(x=df['time'],\n",
    "                  y=df['value'],\n",
    "                  mode='markers',\n",
    "                  marker=dict(color='#b5babe', size=5),\n",
    "                  hovertemplate='<b>Time:</b> %{x|%d %b %Y %H:%M:%S}<br>'\n",
    "                  '<b>Value:</b> %{y: $,.2f}<extra></extra>')\n",
    "\n",
    "# create the figure\n",
    "fig = go.Figure(data=data, layout=layout)\n",
    "\n",
    "# display the figure\n",
    "fig.show()\n",
    "\n",
    "# export the figure\n",
    "fig.write_html('orders_plot.html')"
   ]
  },
  {
   "cell_type": "code",
   "execution_count": null,
   "metadata": {},
   "outputs": [],
   "source": []
  },
  {
   "cell_type": "code",
   "execution_count": null,
   "metadata": {},
   "outputs": [],
   "source": []
  },
  {
   "cell_type": "code",
   "execution_count": null,
   "metadata": {},
   "outputs": [],
   "source": []
  }
 ],
 "metadata": {
  "kernelspec": {
   "display_name": "Python 3",
   "language": "python",
   "name": "python3"
  },
  "language_info": {
   "codemirror_mode": {
    "name": "ipython",
    "version": 3
   },
   "file_extension": ".py",
   "mimetype": "text/x-python",
   "name": "python",
   "nbconvert_exporter": "python",
   "pygments_lexer": "ipython3",
   "version": "3.7.6"
  }
 },
 "nbformat": 4,
 "nbformat_minor": 2
}
